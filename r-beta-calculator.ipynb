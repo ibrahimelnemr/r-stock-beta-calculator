{
 "cells": [
  {
   "cell_type": "markdown",
   "id": "4f1a9f47",
   "metadata": {},
   "source": [
    "# Installing Packages"
   ]
  },
  {
   "cell_type": "code",
   "execution_count": 1,
   "id": "679663ff",
   "metadata": {
    "scrolled": true,
    "vscode": {
     "languageId": "r"
    }
   },
   "outputs": [
    {
     "name": "stdout",
     "output_type": "stream",
     "text": [
      "\n",
      "The downloaded binary packages are in\n",
      "\t/var/folders/f7/4rwk94x54615k2c8sd0jqjzc0000gn/T//RtmpQkdfAc/downloaded_packages\n",
      "\n",
      "The downloaded binary packages are in\n",
      "\t/var/folders/f7/4rwk94x54615k2c8sd0jqjzc0000gn/T//RtmpQkdfAc/downloaded_packages\n"
     ]
    }
   ],
   "source": [
    "# Install needed packages\n",
    "install.packages(\"psych\")\n",
    "install.packages(\"quantmod\")"
   ]
  },
  {
   "cell_type": "markdown",
   "id": "fd95d39a",
   "metadata": {},
   "source": [
    "# Importing Libraries"
   ]
  },
  {
   "cell_type": "code",
   "execution_count": 2,
   "id": "c871dc97",
   "metadata": {
    "scrolled": true
   },
   "outputs": [
    {
     "name": "stderr",
     "output_type": "stream",
     "text": [
      "Loading required package: xts\n",
      "\n",
      "Loading required package: zoo\n",
      "\n",
      "\n",
      "Attaching package: ‘zoo’\n",
      "\n",
      "\n",
      "The following objects are masked from ‘package:base’:\n",
      "\n",
      "    as.Date, as.Date.numeric\n",
      "\n",
      "\n",
      "Loading required package: TTR\n",
      "\n",
      "Registered S3 method overwritten by 'quantmod':\n",
      "  method            from\n",
      "  as.zoo.data.frame zoo \n",
      "\n"
     ]
    }
   ],
   "source": [
    "# Import libraries\n",
    "\n",
    "library(psych)\n",
    "options(scipen = 999)\n",
    "library(quantmod)"
   ]
  },
  {
   "cell_type": "markdown",
   "id": "e3fcfe33",
   "metadata": {},
   "source": [
    "# Test 1 - Analysis of SPY and AAPL (Broad stock market)"
   ]
  },
  {
   "cell_type": "code",
   "execution_count": 72,
   "id": "5293aee5",
   "metadata": {},
   "outputs": [
    {
     "name": "stdout",
     "output_type": "stream",
     "text": [
      "Start date:  2021-01-01 \n",
      "End date:  2023-01-01 \n"
     ]
    },
    {
     "data": {
      "text/html": [
       "'AAPL'"
      ],
      "text/latex": [
       "'AAPL'"
      ],
      "text/markdown": [
       "'AAPL'"
      ],
      "text/plain": [
       "[1] \"AAPL\""
      ]
     },
     "metadata": {},
     "output_type": "display_data"
    },
    {
     "data": {
      "text/html": [
       "'SPY'"
      ],
      "text/latex": [
       "'SPY'"
      ],
      "text/markdown": [
       "'SPY'"
      ],
      "text/plain": [
       "[1] \"SPY\""
      ]
     },
     "metadata": {},
     "output_type": "display_data"
    },
    {
     "name": "stdout",
     "output_type": "stream",
     "text": [
      "[1] \"Correlation\"\n"
     ]
    },
    {
     "data": {
      "text/html": [
       "<table class=\"dataframe\">\n",
       "<caption>A matrix: 1 × 1 of type dbl</caption>\n",
       "<thead>\n",
       "\t<tr><th></th><th scope=col>SPY.Close</th></tr>\n",
       "</thead>\n",
       "<tbody>\n",
       "\t<tr><th scope=row>AAPL.Close</th><td>0.5983733</td></tr>\n",
       "</tbody>\n",
       "</table>\n"
      ],
      "text/latex": [
       "A matrix: 1 × 1 of type dbl\n",
       "\\begin{tabular}{r|l}\n",
       "  & SPY.Close\\\\\n",
       "\\hline\n",
       "\tAAPL.Close & 0.5983733\\\\\n",
       "\\end{tabular}\n"
      ],
      "text/markdown": [
       "\n",
       "A matrix: 1 × 1 of type dbl\n",
       "\n",
       "| <!--/--> | SPY.Close |\n",
       "|---|---|\n",
       "| AAPL.Close | 0.5983733 |\n",
       "\n"
      ],
      "text/plain": [
       "           SPY.Close\n",
       "AAPL.Close 0.5983733"
      ]
     },
     "metadata": {},
     "output_type": "display_data"
    },
    {
     "name": "stdout",
     "output_type": "stream",
     "text": [
      "Volatility and SD of Stock:\n"
     ]
    },
    {
     "data": {
      "text/html": [
       "15.503670430562"
      ],
      "text/latex": [
       "15.503670430562"
      ],
      "text/markdown": [
       "15.503670430562"
      ],
      "text/plain": [
       "[1] 15.50367"
      ]
     },
     "metadata": {},
     "output_type": "display_data"
    },
    {
     "data": {
      "text/html": [
       "0.019414818879609"
      ],
      "text/latex": [
       "0.019414818879609"
      ],
      "text/markdown": [
       "0.019414818879609"
      ],
      "text/plain": [
       "[1] 0.01941482"
      ]
     },
     "metadata": {},
     "output_type": "display_data"
    },
    {
     "name": "stdout",
     "output_type": "stream",
     "text": [
      "Volatility and SD of Index:\n"
     ]
    },
    {
     "data": {
      "text/html": [
       "30.1446533991172"
      ],
      "text/latex": [
       "30.1446533991172"
      ],
      "text/markdown": [
       "30.1446533991172"
      ],
      "text/plain": [
       "[1] 30.14465"
      ]
     },
     "metadata": {},
     "output_type": "display_data"
    },
    {
     "data": {
      "text/html": [
       "0.0122819184168956"
      ],
      "text/latex": [
       "0.0122819184168956"
      ],
      "text/markdown": [
       "0.0122819184168956"
      ],
      "text/plain": [
       "[1] 0.01228192"
      ]
     },
     "metadata": {},
     "output_type": "display_data"
    },
    {
     "name": "stdout",
     "output_type": "stream",
     "text": [
      "Sample size:  503 \n",
      "\n",
      "Summary of Linear Regression Model\n"
     ]
    },
    {
     "data": {
      "text/plain": [
       "\n",
       "Call:\n",
       "lm(formula = stock_returns ~ index_returns, data = data)\n",
       "\n",
       "Residuals:\n",
       "      Min        1Q    Median        3Q       Max \n",
       "-0.046171 -0.005854 -0.000243  0.005313  0.056873 \n",
       "\n",
       "Coefficients:\n",
       "                 Estimate  Std. Error t value            Pr(>|t|)    \n",
       "(Intercept)   0.000003893 0.000492851   0.008               0.994    \n",
       "index_returns 1.300223199 0.040165217  32.372 <0.0000000000000002 ***\n",
       "---\n",
       "Signif. codes:  0 ‘***’ 0.001 ‘**’ 0.01 ‘*’ 0.05 ‘.’ 0.1 ‘ ’ 1\n",
       "\n",
       "Residual standard error: 0.01105 on 501 degrees of freedom\n",
       "Multiple R-squared:  0.6766,\tAdjusted R-squared:  0.6759 \n",
       "F-statistic:  1048 on 1 and 501 DF,  p-value: < 0.00000000000000022\n"
      ]
     },
     "metadata": {},
     "output_type": "display_data"
    },
    {
     "name": "stdout",
     "output_type": "stream",
     "text": [
      "The market beta of AAPL is 1.3\n",
      "Critical value for 95% confidence level:  1.96471 \n",
      "\n"
     ]
    }
   ],
   "source": [
    "# Calculate the market beta of a given stock\n",
    "\n",
    "library(quantmod)\n",
    "\n",
    "# Define the ticker symbols and time period\n",
    "stock_symbol <- \"AAPL\"\n",
    "index_symbol <- \"SPY\"\n",
    "start_date <- \"2021-01-01\"\n",
    "end_date <- \"2023-01-01\"\n",
    "# end_date <- Sys.Date()\n",
    "cat(\"Start date: \", start_date, \"\\n\")\n",
    "cat(\"End date: \", end_date, \"\\n\")\n",
    "\n",
    "\n",
    "# Download the historical stock prices\n",
    "getSymbols(stock_symbol, from = start_date, to = end_date)\n",
    "getSymbols(index_symbol, from = start_date, to = end_date)\n",
    "\n",
    "# Close values\n",
    "\n",
    "stock_data <- get(stock_symbol)\n",
    "index_data <- get(index_symbol)\n",
    "\n",
    "stock_close <- Cl(get(stock_symbol))\n",
    "index_close <- Cl(get(index_symbol))\n",
    "\n",
    "# Get returns\n",
    "stock_returns <- dailyReturn(stock_close)\n",
    "index_returns <- dailyReturn(index_close)\n",
    "\n",
    "\n",
    "\n",
    "\n",
    "# summary(stock_data)\n",
    "# summary(index_data)\n",
    "\n",
    "# Find Correlation between Stock and Index\n",
    "print(\"Correlation\")\n",
    "corr <- cor(stock_close, index_close)\n",
    "corr\n",
    "\n",
    "# regression <- lm(stock_close~ index_close )\n",
    "# summary(regression)\n",
    "\n",
    "# Volatility and standard deviation of stock\n",
    "\n",
    "cat(\"Volatility and SD of Stock:\\n\")\n",
    "sd(stock_close)\n",
    "sd(stock_returns, na.rm=TRUE)\n",
    "\n",
    "\n",
    "# Volatility and standard deviation of index\n",
    "cat(\"Volatility and SD of Index:\\n\")\n",
    "sd(index_close)\n",
    "sd(index_returns, na.rm=TRUE)\n",
    "\n",
    "# Combine the stock and index returns into a data frame\n",
    "data <- data.frame(stock_returns, index_returns)\n",
    "\n",
    "n <- nrow(data)\n",
    "cat(\"Sample size: \", n, \"\\n\\n\")\n",
    "\n",
    "# Estimate the linear regression model of the stock returns against the index returns\n",
    "model <- lm(stock_returns ~ index_returns, data=data)\n",
    "cat(\"Summary of Linear Regression Model\\n\")\n",
    "summary(model)\n",
    "\n",
    "# Extract the beta value from the model coefficients\n",
    "beta <- coef(model)[2]\n",
    "\n",
    "# Calculate beta using covariance & variance\n",
    "market_beta <- cov(stock_returns, index_returns) / var(index_returns)\n",
    "\n",
    "# Print the beta value\n",
    "cat(\"The market beta of\", stock_symbol, \"is\", round(beta, 3))\n",
    "cat(\"\\n\")\n",
    "\n",
    "\n",
    "# calculate critical value for two-tailed test and 95% confidence level\n",
    "critical_val <- qt(0.975, n-2)\n",
    "\n",
    "cat(\"Critical value for 95% confidence level: \", critical_val,\"\\n\\n\")"
   ]
  },
  {
   "cell_type": "markdown",
   "id": "506dc734",
   "metadata": {},
   "source": [
    "# Test 2 - Analysis of VNQ and O (Real Estate)"
   ]
  },
  {
   "cell_type": "code",
   "execution_count": 70,
   "id": "5276d0a1",
   "metadata": {
    "scrolled": true
   },
   "outputs": [
    {
     "name": "stdout",
     "output_type": "stream",
     "text": [
      "Start date:  2021-01-01 \n",
      "End date:  2023-01-01 \n"
     ]
    },
    {
     "data": {
      "text/html": [
       "'O'"
      ],
      "text/latex": [
       "'O'"
      ],
      "text/markdown": [
       "'O'"
      ],
      "text/plain": [
       "[1] \"O\""
      ]
     },
     "metadata": {},
     "output_type": "display_data"
    },
    {
     "data": {
      "text/html": [
       "'IYR'"
      ],
      "text/latex": [
       "'IYR'"
      ],
      "text/markdown": [
       "'IYR'"
      ],
      "text/plain": [
       "[1] \"IYR\""
      ]
     },
     "metadata": {},
     "output_type": "display_data"
    },
    {
     "name": "stdout",
     "output_type": "stream",
     "text": [
      "[1] \"Correlation\"\n"
     ]
    },
    {
     "data": {
      "text/html": [
       "<table class=\"dataframe\">\n",
       "<caption>A matrix: 1 × 1 of type dbl</caption>\n",
       "<thead>\n",
       "\t<tr><th></th><th scope=col>IYR.Close</th></tr>\n",
       "</thead>\n",
       "<tbody>\n",
       "\t<tr><th scope=row>O.Close</th><td>0.7731529</td></tr>\n",
       "</tbody>\n",
       "</table>\n"
      ],
      "text/latex": [
       "A matrix: 1 × 1 of type dbl\n",
       "\\begin{tabular}{r|l}\n",
       "  & IYR.Close\\\\\n",
       "\\hline\n",
       "\tO.Close & 0.7731529\\\\\n",
       "\\end{tabular}\n"
      ],
      "text/markdown": [
       "\n",
       "A matrix: 1 × 1 of type dbl\n",
       "\n",
       "| <!--/--> | IYR.Close |\n",
       "|---|---|\n",
       "| O.Close | 0.7731529 |\n",
       "\n"
      ],
      "text/plain": [
       "        IYR.Close\n",
       "O.Close 0.7731529"
      ]
     },
     "metadata": {},
     "output_type": "display_data"
    },
    {
     "name": "stdout",
     "output_type": "stream",
     "text": [
      "Volatility and SD of Stock:\n"
     ]
    },
    {
     "data": {
      "text/html": [
       "4.2093856539646"
      ],
      "text/latex": [
       "4.2093856539646"
      ],
      "text/markdown": [
       "4.2093856539646"
      ],
      "text/plain": [
       "[1] 4.209386"
      ]
     },
     "metadata": {},
     "output_type": "display_data"
    },
    {
     "data": {
      "text/html": [
       "0.0127337285054456"
      ],
      "text/latex": [
       "0.0127337285054456"
      ],
      "text/markdown": [
       "0.0127337285054456"
      ],
      "text/plain": [
       "[1] 0.01273373"
      ]
     },
     "metadata": {},
     "output_type": "display_data"
    },
    {
     "name": "stdout",
     "output_type": "stream",
     "text": [
      "Volatility and SD of Index:\n"
     ]
    },
    {
     "data": {
      "text/html": [
       "9.46227378216023"
      ],
      "text/latex": [
       "9.46227378216023"
      ],
      "text/markdown": [
       "9.46227378216023"
      ],
      "text/plain": [
       "[1] 9.462274"
      ]
     },
     "metadata": {},
     "output_type": "display_data"
    },
    {
     "data": {
      "text/html": [
       "0.0127207389370366"
      ],
      "text/latex": [
       "0.0127207389370366"
      ],
      "text/markdown": [
       "0.0127207389370366"
      ],
      "text/plain": [
       "[1] 0.01272074"
      ]
     },
     "metadata": {},
     "output_type": "display_data"
    },
    {
     "name": "stdout",
     "output_type": "stream",
     "text": [
      "Sample size:  503 \n",
      "\n",
      "The market beta of O is 0.803\n"
     ]
    },
    {
     "data": {
      "text/plain": [
       "\n",
       "Call:\n",
       "lm(formula = stock_returns ~ index_returns, data = data)\n",
       "\n",
       "Residuals:\n",
       "       Min         1Q     Median         3Q        Max \n",
       "-0.0304823 -0.0041101  0.0001215  0.0046325  0.0268265 \n",
       "\n",
       "Coefficients:\n",
       "               Estimate Std. Error t value            Pr(>|t|)    \n",
       "(Intercept)   0.0001664  0.0003394    0.49               0.624    \n",
       "index_returns 0.8028960  0.0267091   30.06 <0.0000000000000002 ***\n",
       "---\n",
       "Signif. codes:  0 ‘***’ 0.001 ‘**’ 0.01 ‘*’ 0.05 ‘.’ 0.1 ‘ ’ 1\n",
       "\n",
       "Residual standard error: 0.007612 on 501 degrees of freedom\n",
       "Multiple R-squared:  0.6433,\tAdjusted R-squared:  0.6426 \n",
       "F-statistic: 903.6 on 1 and 501 DF,  p-value: < 0.00000000000000022\n"
      ]
     },
     "metadata": {},
     "output_type": "display_data"
    },
    {
     "name": "stdout",
     "output_type": "stream",
     "text": [
      "Critical value for 95% confidence level:  1.96471 \n",
      "\n"
     ]
    }
   ],
   "source": [
    "# Calculate the market beta of a given stock\n",
    "\n",
    "library(quantmod)\n",
    "\n",
    "# Define the ticker symbols and time period\n",
    "stock_symbol <- \"O\"\n",
    "index_symbol <- \"IYR\"\n",
    "start_date <- \"2021-01-01\"\n",
    "end_date <- \"2023-01-01\"\n",
    "# end_date <- Sys.Date()\n",
    "cat(\"Start date: \", start_date, \"\\n\")\n",
    "cat(\"End date: \", end_date, \"\\n\")\n",
    "\n",
    "\n",
    "# Download the historical stock prices\n",
    "getSymbols(stock_symbol, from = start_date, to = end_date)\n",
    "getSymbols(index_symbol, from = start_date, to = end_date)\n",
    "\n",
    "# Close values\n",
    "\n",
    "stock_data <- get(stock_symbol)\n",
    "index_data <- get(index_symbol)\n",
    "\n",
    "stock_close <- Cl(get(stock_symbol))\n",
    "index_close <- Cl(get(index_symbol))\n",
    "\n",
    "# Get returns\n",
    "stock_returns <- dailyReturn(stock_close)\n",
    "index_returns <- dailyReturn(index_close)\n",
    "\n",
    "\n",
    "# summary(stock_data)\n",
    "# describe(stock_data)\n",
    "\n",
    "# summary(index_data)\n",
    "# describe(index_data)\n",
    "\n",
    "\n",
    "# Find Correlation between Stock and Index\n",
    "print(\"Correlation\")\n",
    "corr <- cor(stock_close, index_close)\n",
    "corr\n",
    "\n",
    "# regression <- lm(stock_close~ index_close )\n",
    "# summary(regression)\n",
    "\n",
    "# Volatility and standard deviation of stock\n",
    "\n",
    "cat(\"Volatility and SD of Stock:\\n\")\n",
    "sd(stock_close)\n",
    "sd(stock_returns, na.rm=TRUE)\n",
    "\n",
    "\n",
    "# Volatility and standard deviation of index\n",
    "cat(\"Volatility and SD of Index:\\n\")\n",
    "sd(index_close)\n",
    "sd(index_returns, na.rm=TRUE)\n",
    "\n",
    "# Combine the stock and index returns into a data frame\n",
    "data <- data.frame(stock_returns, index_returns)\n",
    "# variable to represent sample size n\n",
    "n <- nrow(data)\n",
    "cat(\"Sample size: \", n, \"\\n\\n\")\n",
    "\n",
    "# Estimate the linear regression model of the stock returns against the index returns\n",
    "model <- lm(stock_returns ~ index_returns, data=data)\n",
    "\n",
    "# Extract the beta value from the model coefficients\n",
    "beta <- coef(model)[2]\n",
    "\n",
    "# Calculate beta using covariance & variance\n",
    "market_beta <- cov(stock_returns, index_returns) / var(index_returns)\n",
    "\n",
    "# Print the beta value\n",
    "cat(\"The market beta of\", stock_symbol, \"is\", round(beta, 3))\n",
    "cat(\"\\n\")\n",
    "\n",
    "# Summarize model from LM function\n",
    "summary(model)\n",
    "\n",
    "# calculate critical value for two-tailed test and 95% confidence level\n",
    "critical_val <- qt(0.975, n-2)\n",
    "\n",
    "cat(\"Critical value for 95% confidence level: \", critical_val,\"\\n\\n\")"
   ]
  },
  {
   "cell_type": "markdown",
   "id": "8fd169f7",
   "metadata": {},
   "source": [
    "## Analysis - SPY & AAPL\n",
    "\n",
    "The actual t value in this case is 32.372\n",
    "The calculated t value is 1.960393\n",
    "\n",
    "Since the actual t value is greater than the calculated t value (at 95% confidence), we reject the null hypothesis.\n",
    "\n",
    "The adjusted r coefficient for this dataset is 0.78\n",
    "\n",
    "This shows that there is a very strong positive correlation between the performance of the index and the performance of the stock.\n",
    "\n",
    "\n",
    "## Analysis - O & IYR\n",
    "\n",
    "\n",
    "The actual t value in this case is 32.372\n",
    "The calculated t value is 1.960393\n",
    "\n",
    "Since the actual t value is greater than the calculated t value (at 95% confidence), we reject the null hypothesis.\n",
    "\n",
    "The adjusted r coefficient for this dataset is 0.78\n",
    "\n",
    "This shows that there is a very strong positive correlation between the performance of the index and the performance of the stock.\n"
   ]
  }
 ],
 "metadata": {
  "kernelspec": {
   "display_name": "R",
   "language": "R",
   "name": "ir"
  },
  "language_info": {
   "codemirror_mode": "r",
   "file_extension": ".r",
   "mimetype": "text/x-r-source",
   "name": "R",
   "pygments_lexer": "r",
   "version": "4.2.3"
  }
 },
 "nbformat": 4,
 "nbformat_minor": 5
}
