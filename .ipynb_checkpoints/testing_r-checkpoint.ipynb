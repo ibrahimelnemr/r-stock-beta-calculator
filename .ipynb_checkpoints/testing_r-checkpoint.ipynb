{
 "cells": [
  {
   "cell_type": "markdown",
   "id": "4f1a9f47",
   "metadata": {},
   "source": [
    "# Installing Packages"
   ]
  },
  {
   "cell_type": "code",
   "execution_count": null,
   "id": "679663ff",
   "metadata": {
    "scrolled": true,
    "vscode": {
     "languageId": "r"
    }
   },
   "outputs": [],
   "source": [
    "# Install needed packages\n",
    "install.packages(\"psych\")\n",
    "install.packages(\"quantmod\")"
   ]
  },
  {
   "cell_type": "markdown",
   "id": "fd95d39a",
   "metadata": {},
   "source": [
    "# Importing Libraries"
   ]
  },
  {
   "cell_type": "code",
   "execution_count": null,
   "id": "c871dc97",
   "metadata": {
    "scrolled": true
   },
   "outputs": [],
   "source": [
    "# Import libraries\n",
    "\n",
    "library(psych)\n",
    "options(scipen = 999)\n",
    "library(quantmod)"
   ]
  },
  {
   "cell_type": "markdown",
   "id": "d9225c8c",
   "metadata": {},
   "source": [
    "# Read values from CSV files"
   ]
  },
  {
   "cell_type": "markdown",
   "id": "829497c5",
   "metadata": {},
   "source": [
    "# Obtain stock and index data with market constraints\n",
    "\n",
    "This data was obtained using the quantmod library, which allows for retreiving historical stock data for any stock or index.\n",
    "\n",
    "## Stock: AAPL\n",
    "## Index: SPY"
   ]
  },
  {
   "cell_type": "code",
   "execution_count": null,
   "id": "622c424d",
   "metadata": {},
   "outputs": [],
   "source": [
    "# Read data values from CSV\n",
    "\n",
    "aapl <- read.csv(\"AAPL2.csv\")\n",
    "spy <- read.csv(\"SPY2.csv\")\n",
    "splv <- read.csv(\"SPLV.csv\")"
   ]
  },
  {
   "cell_type": "code",
   "execution_count": null,
   "id": "d2498dbb",
   "metadata": {
    "scrolled": true
   },
   "outputs": [],
   "source": [
    "# Calculate the market beta of a given stock\n",
    "\n",
    "library(quantmod)\n",
    "\n",
    "# Define the ticker symbols and time period\n",
    "stock_symbol <- \"AAPL\"\n",
    "index_symbol <- \"SPY\"\n",
    "start_date <- \"2000-01-01\"\n",
    "end_date <- \"2023-01-01\"\n",
    "# end_date <- Sys.Date()\n",
    "cat(\"Start date: \", start_date, \"\\n\")\n",
    "cat(\"End date: \", end_date, \"\\n\")\n",
    "\n",
    "\n",
    "# Download the historical stock prices\n",
    "getSymbols(stock_symbol, from = start_date, to = end_date)\n",
    "getSymbols(index_symbol, from = start_date, to = end_date)\n",
    "\n",
    "# Close values\n",
    "\n",
    "stock_data <- get(stock_symbol)\n",
    "index_data <- get(index_symbol)\n",
    "\n",
    "stock_close <- Cl(get(stock_symbol))\n",
    "index_close <- Cl(get(index_symbol))\n",
    "\n",
    "# Get returns\n",
    "stock_returns <- dailyReturn(stock_close)\n",
    "index_returns <- dailyReturn(index_close)"
   ]
  },
  {
   "cell_type": "markdown",
   "id": "9ffaee16",
   "metadata": {},
   "source": [
    "# Summary of Data"
   ]
  },
  {
   "cell_type": "markdown",
   "id": "82fc35bf",
   "metadata": {},
   "source": [
    "# Calculate and plot regression line"
   ]
  },
  {
   "cell_type": "markdown",
   "id": "67dff447",
   "metadata": {},
   "source": [
    "# Obtain Volatility of stock (AAPL)"
   ]
  },
  {
   "cell_type": "markdown",
   "id": "b2de3753",
   "metadata": {},
   "source": [
    "# Summary of Data"
   ]
  },
  {
   "cell_type": "code",
   "execution_count": null,
   "id": "7242021d",
   "metadata": {
    "scrolled": true
   },
   "outputs": [],
   "source": [
    "# Check numbers of rows and columns\n",
    "\n",
    "nrow(aapl)\n",
    "ncol(aapl)\n",
    "nrow(spy)\n",
    "ncol(spy)\n",
    "\n",
    "\n",
    "\n",
    "cat(\"Summary of AAPL\\n\")\n",
    "summary(aapl)\n",
    "describe(aapl)\n",
    "\n",
    "cat(\"Summary of SPY\\n\")\n",
    "summary(spy)\n",
    "describe(spy)\n",
    "\n"
   ]
  },
  {
   "cell_type": "code",
   "execution_count": null,
   "id": "e10af454",
   "metadata": {
    "scrolled": false
   },
   "outputs": [],
   "source": [
    "# Calculate regression line\n",
    "aapl_close <- aapl$Close\n",
    "spy_close <- spy$Close\n",
    "regression <- lm(aapl_close~ spy_close )\n",
    "summary(regression)\n",
    "\n",
    "# Plot regression line\n",
    "\n",
    "plot(spy_close,aapl_close , xlab=\"SPY Close\", ylab=\"AAPL Close\", main=\"SPY vs AAPL\")\n",
    "abline(regression, col=\"red\")"
   ]
  },
  {
   "cell_type": "code",
   "execution_count": null,
   "id": "10a95b10",
   "metadata": {},
   "outputs": [],
   "source": [
    "# STDEV of returns of AAPL\n",
    "\n",
    "cat(\"Stdev of AAPL\")\n",
    "sd(aapl$Close)\n",
    "aapl$Date <- as.Date(aapl$Date, format=\"%Y-%m-%d\")\n",
    "aapl_price <- xts(aapl$Close, order.by=aapl$Date)\n",
    "aapl_returns <- dailyReturn(aapl_price)\n",
    "aapl_volatility <- sd(aapl_returns, na.rm=TRUE)\n",
    "cat(\"Volatility of AAPL stock\", aapl_volatility)\n",
    "cat(\"\\n\\n\")"
   ]
  },
  {
   "cell_type": "code",
   "execution_count": null,
   "id": "2c2bf1ce",
   "metadata": {
    "scrolled": true
   },
   "outputs": [],
   "source": [
    "nrow(stock_data)\n",
    "ncol(stock_data)\n",
    "nrow(index_data)\n",
    "ncol(index_data)\n",
    "\n",
    "\n",
    "\n",
    "cat(\"Summary of Stock\\n\")\n",
    "summary(stock_data)\n",
    "describe(stock_data)\n",
    "\n",
    "cat(\"Summary of SPY\\n\")\n",
    "summary(index_data)\n",
    "describe(index_data)\n",
    "\n"
   ]
  },
  {
   "cell_type": "markdown",
   "id": "7b646557",
   "metadata": {},
   "source": [
    "# Calculate correlation"
   ]
  },
  {
   "cell_type": "code",
   "execution_count": null,
   "id": "5b66800d",
   "metadata": {},
   "outputs": [],
   "source": [
    "# Find Correlation between AAPl and SPY\n",
    "print(\"Correlation\")\n",
    "corr <- cor(aapl$Close, spy$Close)\n",
    "corr"
   ]
  },
  {
   "cell_type": "markdown",
   "id": "a1df5072",
   "metadata": {},
   "source": [
    "# Obtain Volatility of index (SPY)"
   ]
  },
  {
   "cell_type": "markdown",
   "id": "74f52af8",
   "metadata": {},
   "source": [
    "# Correlation"
   ]
  },
  {
   "cell_type": "code",
   "execution_count": null,
   "id": "4da649ac",
   "metadata": {},
   "outputs": [],
   "source": [
    "# STDEV of returns of SPY\n",
    "cat(\"Stdev of SPY\")\n",
    "sd(spy$Close)\n",
    "spy$Date <- as.Date(spy$Date, format=\"%Y-%m-%d\")\n",
    "spy_price <- xts(spy$Close, order.by=spy$Date)\n",
    "spy_returns <- dailyReturn(spy_price)\n",
    "spy_volatility <- sd(spy_returns, na.rm=TRUE)\n",
    "cat(\"Volatility of SPY stock: \", spy_volatility)\n",
    "cat(\"\\n\\n\")"
   ]
  },
  {
   "cell_type": "code",
   "execution_count": null,
   "id": "31d23396",
   "metadata": {
    "scrolled": false
   },
   "outputs": [],
   "source": [
    "# Find Correlation between Stock and Index\n",
    "print(\"Correlation\")\n",
    "corr <- cor(stock_close, index_close)\n",
    "corr"
   ]
  },
  {
   "cell_type": "markdown",
   "id": "275ff4c4",
   "metadata": {},
   "source": [
    "# Regression"
   ]
  },
  {
   "cell_type": "code",
   "execution_count": null,
   "id": "b62d1709",
   "metadata": {
    "scrolled": true
   },
   "outputs": [],
   "source": [
    "regression <- lm(stock_close~ index_close )\n",
    "summary(regression)\n",
    "\n",
    "# Plot regression line\n",
    "\n",
    "plot(spy_close,aapl_close , xlab=\"Index Close\", ylab=\"Stock Close\", main=\"Index vs Stock\")\n",
    "abline(regression, col=\"red\")"
   ]
  },
  {
   "cell_type": "markdown",
   "id": "915cb35b",
   "metadata": {},
   "source": [
    "# Plot"
   ]
  },
  {
   "cell_type": "code",
   "execution_count": null,
   "id": "91af4ddf",
   "metadata": {},
   "outputs": [],
   "source": [
    "# Plot regression line\n",
    "plot(index_close,stock_close)\n",
    "regression <- lm(stock_close~ index_close )\n",
    "\n",
    "abline(regression, col=\"red\")"
   ]
  },
  {
   "cell_type": "code",
   "execution_count": null,
   "id": "edc57200",
   "metadata": {},
   "outputs": [],
   "source": []
  },
  {
   "cell_type": "code",
   "execution_count": null,
   "id": "40a52930",
   "metadata": {},
   "outputs": [],
   "source": [
    "# Plot regression line\n",
    "\n",
    "plot(index_close,stock_close, xlab=\"Index Close\", ylab=\"Stock Close\", main=\"Index vs Stock\")\n",
    "abline(regression, col=\"red\")"
   ]
  },
  {
   "cell_type": "code",
   "execution_count": null,
   "id": "349a1421",
   "metadata": {
    "scrolled": true
   },
   "outputs": [],
   "source": [
    "corr <- cor(stock_close, index_close)\n",
    "corr\n",
    "\n",
    "regression <- lm(stock_close~ index_close )\n",
    "summary(regression)\n",
    "\n",
    "# Plot regression line\n",
    "\n",
    "plot(index_close,stock_close , xlab=\"SPY Close\", ylab=\"AAPL Close\", main=\"SPY vs AAPL\")\n",
    "abline(regression, col=\"red\")"
   ]
  },
  {
   "cell_type": "markdown",
   "id": "ad9ccff3",
   "metadata": {},
   "source": [
    "# Volatility and SD of Stock"
   ]
  },
  {
   "cell_type": "code",
   "execution_count": null,
   "id": "85965cc1",
   "metadata": {},
   "outputs": [],
   "source": [
    "sd(stock_close)\n",
    "sd(stock_returns, na.rm=TRUE)"
   ]
  },
  {
   "cell_type": "markdown",
   "id": "8c3694a0",
   "metadata": {},
   "source": [
    "# Volatility and SD of Index"
   ]
  },
  {
   "cell_type": "code",
   "execution_count": null,
   "id": "8eda1f7f",
   "metadata": {},
   "outputs": [],
   "source": [
    "sd(index_close)\n",
    "sd(index_returns, na.rm=TRUE)"
   ]
  },
  {
   "cell_type": "markdown",
   "id": "4e940cf8",
   "metadata": {},
   "source": [
    "# Combine data into one dataframe"
   ]
  },
  {
   "cell_type": "code",
   "execution_count": null,
   "id": "1ce852d4",
   "metadata": {
    "scrolled": true
   },
   "outputs": [],
   "source": [
    "\n",
    "# Combine the stock and index returns into a data frame\n",
    "data <- data.frame(stock_returns, index_returns)\n",
    "\n",
    "nrow(data)\n",
    "ncol(data)"
   ]
  },
  {
   "cell_type": "markdown",
   "id": "05561bf7",
   "metadata": {},
   "source": [
    "# Calculate beta using lm function"
   ]
  },
  {
   "cell_type": "code",
   "execution_count": null,
   "id": "690cf807",
   "metadata": {},
   "outputs": [],
   "source": []
  },
  {
   "cell_type": "code",
   "execution_count": null,
   "id": "cad89a9d",
   "metadata": {},
   "outputs": [],
   "source": [
    "\n",
    "# Estimate the linear regression model of the stock returns against the index returns\n",
    "model <- lm(stock_returns ~ index_returns, data=data)\n",
    "\n",
    "# Extract the beta value from the model coefficients\n",
    "\n",
    "\n",
    "beta <- coef(model)[2]\n",
    "\n",
    "# Print the beta value\n",
    "cat(\"The market beta of\", stock_symbol, \"is\", round(beta, 3))"
   ]
  },
  {
   "cell_type": "markdown",
   "id": "19b1d0b0",
   "metadata": {},
   "source": [
    "# Calculate beta using covariance & variance"
   ]
  },
  {
   "cell_type": "code",
   "execution_count": null,
   "id": "7f4f4712",
   "metadata": {
    "scrolled": false
   },
   "outputs": [],
   "source": [
    "# Calculate market beta\n",
    "market_beta <- cov(stock_returns, index_returns) / var(index_returns)\n",
    "\n",
    "# Print beta\n",
    "cat(\"The market beta of\", symbol, \"is\", round(market_beta, 3))"
   ]
  },
  {
   "cell_type": "markdown",
   "id": "0ab6b856",
   "metadata": {},
   "source": [
    "# Summarize regression model"
   ]
  },
  {
   "cell_type": "code",
   "execution_count": null,
   "id": "509bb51a",
   "metadata": {
    "scrolled": true
   },
   "outputs": [],
   "source": [
    "summary(model)"
   ]
  },
  {
   "cell_type": "markdown",
   "id": "acfc35c2",
   "metadata": {},
   "source": [
    "# Analysis of r coefficient\n",
    "\n",
    "The adjusted r coefficient for this dataset is 0.78\n",
    "This shows that there is a very strong positive correlation between the performance of the general stock market (SPY) and the performance of the Apple stock (AAPL)"
   ]
  },
  {
   "cell_type": "markdown",
   "id": "87d640e1",
   "metadata": {
    "scrolled": true
   },
   "source": [
    "# Hypothesis testing\n",
    "\n",
    "The model that is being used is:\n",
    "stockReturn = beta0 + beta1(indexReturn)\n",
    "\n",
    "Based on this model\n",
    "* If beta1 is equal to 0, accept the null hypothesis\n",
    "* If not, reject the null hypothesis\n",
    "\n",
    "The calculated.t value from the model is 29.837\n",
    "\n",
    "The number of rows of the data (sample size) is 251"
   ]
  },
  {
   "cell_type": "code",
   "execution_count": null,
   "id": "5293aee5",
   "metadata": {},
   "outputs": [],
   "source": [
    "# actual t value\n",
    "actual_val <- 29.837\n",
    "\n",
    "# variable to represent sample size n\n",
    "n <- nrow(data)\n",
    "cat(\"Sample size: \", n, \"\\n\\n\")\n",
    "\n",
    "# calculate critical value for two-tailed test and 95% confidence level\n",
    "critical_val <- qt(0.975, n-2)\n",
    "\n",
    "cat(\"Critical value for 95% confidence level: \", critical_val,\"\\n\\n\")\n",
    "cat(\"Actual value: \", act_value)"
   ]
  },
  {
   "cell_type": "markdown",
   "id": "3ba62c84",
   "metadata": {},
   "source": [
    "# Conclusion\n",
    "\n",
    "since the critical value "
   ]
  },
  {
   "cell_type": "code",
   "execution_count": null,
   "id": "ecfdb0ca",
   "metadata": {},
   "outputs": [],
   "source": [
    "# Filter \n",
    "# return of stock = beta0 + beta1(return of index)\n",
    "# is beta1 equal to 0\n",
    "# if beta1 is equal to 0, null hyp\n",
    "# if not, reject null hyp\n",
    "# is beta1 equal to 0\n",
    "# r has a package for OLS\n",
    "# will give a table with all needed data, t, statistic\n",
    "# Compare with t value from table\n",
    "# To reject or accept null hypothesis"
   ]
  },
  {
   "cell_type": "code",
   "execution_count": null,
   "id": "8c4d4901",
   "metadata": {},
   "outputs": [],
   "source": [
    "%history"
   ]
  },
  {
   "cell_type": "code",
   "execution_count": null,
   "id": "e34935ff",
   "metadata": {},
   "outputs": [],
   "source": []
  }
 ],
 "metadata": {
  "kernelspec": {
   "display_name": "R",
   "language": "R",
   "name": "ir"
  },
  "language_info": {
   "codemirror_mode": "r",
   "file_extension": ".r",
   "mimetype": "text/x-r-source",
   "name": "R",
   "pygments_lexer": "r",
   "version": "4.2.3"
  }
 },
 "nbformat": 4,
 "nbformat_minor": 5
}
